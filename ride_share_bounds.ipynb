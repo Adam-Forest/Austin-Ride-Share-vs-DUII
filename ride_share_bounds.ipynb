{
 "cells": [
  {
   "cell_type": "code",
   "execution_count": 10,
   "metadata": {},
   "outputs": [],
   "source": [
    "# Use Google Map API to find bounds of city\n",
    "# Dependencies\n",
    "import requests\n",
    "import json\n",
    "import pandas as pd\n",
    "\n",
    "# Google developer API key\n",
    "from api_config import g_key\n",
    "\n",
    "# Read ride data File and store into Pandas data frame\n",
    "ride_data = pd.read_csv(\"Data/Rides_Data_Clean.csv\")\n",
    "\n",
    "# Target city\n",
    "target_city = \"Austin\"\n",
    "\n",
    "# Build the endpoint URL\n",
    "target_url = ('https://maps.googleapis.com/maps/api/geocode/json?'\n",
    "    'address={0}&key={1}').format(target_city, g_key)"
   ]
  },
  {
   "cell_type": "code",
   "execution_count": 11,
   "metadata": {},
   "outputs": [
    {
     "name": "stdout",
     "output_type": "stream",
     "text": [
      "{'results': [{'address_components': [{'long_name': 'Austin', 'short_name': 'Austin', 'types': ['locality', 'political']}, {'long_name': 'Travis County', 'short_name': 'Travis County', 'types': ['administrative_area_level_2', 'political']}, {'long_name': 'Texas', 'short_name': 'TX', 'types': ['administrative_area_level_1', 'political']}, {'long_name': 'United States', 'short_name': 'US', 'types': ['country', 'political']}], 'formatted_address': 'Austin, TX, USA', 'geometry': {'bounds': {'northeast': {'lat': 30.5168629, 'lng': -97.5684199}, 'southwest': {'lat': 30.0986589, 'lng': -97.9383829}}, 'location': {'lat': 30.267153, 'lng': -97.7430608}, 'location_type': 'APPROXIMATE', 'viewport': {'northeast': {'lat': 30.5168629, 'lng': -97.5684199}, 'southwest': {'lat': 30.0986589, 'lng': -97.9383829}}}, 'place_id': 'ChIJLwPMoJm1RIYRetVp1EtGm10', 'types': ['locality', 'political']}], 'status': 'OK'}\n"
     ]
    }
   ],
   "source": [
    "# Run a request to endpoint and convert result to json\n",
    "geo_data = requests.get(target_url).json()\n",
    "\n",
    "# Print the json\n",
    "print(geo_data)"
   ]
  },
  {
   "cell_type": "code",
   "execution_count": 12,
   "metadata": {},
   "outputs": [
    {
     "name": "stdout",
     "output_type": "stream",
     "text": [
      "{\n",
      "    \"results\": [\n",
      "        {\n",
      "            \"address_components\": [\n",
      "                {\n",
      "                    \"long_name\": \"Austin\",\n",
      "                    \"short_name\": \"Austin\",\n",
      "                    \"types\": [\n",
      "                        \"locality\",\n",
      "                        \"political\"\n",
      "                    ]\n",
      "                },\n",
      "                {\n",
      "                    \"long_name\": \"Travis County\",\n",
      "                    \"short_name\": \"Travis County\",\n",
      "                    \"types\": [\n",
      "                        \"administrative_area_level_2\",\n",
      "                        \"political\"\n",
      "                    ]\n",
      "                },\n",
      "                {\n",
      "                    \"long_name\": \"Texas\",\n",
      "                    \"short_name\": \"TX\",\n",
      "                    \"types\": [\n",
      "                        \"administrative_area_level_1\",\n",
      "                        \"political\"\n",
      "                    ]\n",
      "                },\n",
      "                {\n",
      "                    \"long_name\": \"United States\",\n",
      "                    \"short_name\": \"US\",\n",
      "                    \"types\": [\n",
      "                        \"country\",\n",
      "                        \"political\"\n",
      "                    ]\n",
      "                }\n",
      "            ],\n",
      "            \"formatted_address\": \"Austin, TX, USA\",\n",
      "            \"geometry\": {\n",
      "                \"bounds\": {\n",
      "                    \"northeast\": {\n",
      "                        \"lat\": 30.5168629,\n",
      "                        \"lng\": -97.5684199\n",
      "                    },\n",
      "                    \"southwest\": {\n",
      "                        \"lat\": 30.0986589,\n",
      "                        \"lng\": -97.9383829\n",
      "                    }\n",
      "                },\n",
      "                \"location\": {\n",
      "                    \"lat\": 30.267153,\n",
      "                    \"lng\": -97.7430608\n",
      "                },\n",
      "                \"location_type\": \"APPROXIMATE\",\n",
      "                \"viewport\": {\n",
      "                    \"northeast\": {\n",
      "                        \"lat\": 30.5168629,\n",
      "                        \"lng\": -97.5684199\n",
      "                    },\n",
      "                    \"southwest\": {\n",
      "                        \"lat\": 30.0986589,\n",
      "                        \"lng\": -97.9383829\n",
      "                    }\n",
      "                }\n",
      "            },\n",
      "            \"place_id\": \"ChIJLwPMoJm1RIYRetVp1EtGm10\",\n",
      "            \"types\": [\n",
      "                \"locality\",\n",
      "                \"political\"\n",
      "            ]\n",
      "        }\n",
      "    ],\n",
      "    \"status\": \"OK\"\n",
      "}\n"
     ]
    }
   ],
   "source": [
    "# Print the json (pretty printed)\n",
    "print(json.dumps(geo_data, indent=4, sort_keys=True))"
   ]
  },
  {
   "cell_type": "code",
   "execution_count": 13,
   "metadata": {},
   "outputs": [
    {
     "name": "stdout",
     "output_type": "stream",
     "text": [
      "\n",
      "    City: Austin\n",
      "    Latitude_ne: 30.5168629\n",
      "    Longitude_ne: -97.5684199\n",
      "    Latitude_sw: 30.0986589\n",
      "    Longitude_sw: -97.9383829\n",
      "    \n"
     ]
    }
   ],
   "source": [
    "# Extract bounding box for city from viewport\n",
    "# Extract latitude and longitude upper and lower bounds\n",
    "lat_ne = geo_data[\"results\"][0][\"geometry\"][\"bounds\"][\"northeast\"][\"lat\"]\n",
    "long_ne = geo_data[\"results\"][0][\"geometry\"][\"bounds\"][\"northeast\"][\"lng\"]\n",
    "lat_sw = geo_data[\"results\"][0][\"geometry\"][\"bounds\"][\"southwest\"][\"lat\"]\n",
    "long_sw = geo_data[\"results\"][0][\"geometry\"][\"bounds\"][\"southwest\"][\"lng\"]\n",
    "\n",
    "# lng_ne = geo_data[\"results\"][0][\"viewport\"][\"location\"][\"lng\"]\n",
    "\n",
    "# Print the latitude and longitude bounds\n",
    "print('''\n",
    "    City: {0}\n",
    "    Latitude_ne: {1}\n",
    "    Longitude_ne: {2}\n",
    "    Latitude_sw: {3}\n",
    "    Longitude_sw: {4}\n",
    "    '''.format(target_city, lat_ne, long_ne, lat_sw, long_sw))"
   ]
  },
  {
   "cell_type": "code",
   "execution_count": 14,
   "metadata": {},
   "outputs": [
    {
     "data": {
      "text/html": [
       "<div>\n",
       "<style scoped>\n",
       "    .dataframe tbody tr th:only-of-type {\n",
       "        vertical-align: middle;\n",
       "    }\n",
       "\n",
       "    .dataframe tbody tr th {\n",
       "        vertical-align: top;\n",
       "    }\n",
       "\n",
       "    .dataframe thead th {\n",
       "        text-align: right;\n",
       "    }\n",
       "</style>\n",
       "<table border=\"1\" class=\"dataframe\">\n",
       "  <thead>\n",
       "    <tr style=\"text-align: right;\">\n",
       "      <th></th>\n",
       "      <th>Unnamed: 0</th>\n",
       "      <th>created_date</th>\n",
       "      <th>end_location_lat</th>\n",
       "      <th>end_location_long</th>\n",
       "      <th>start_location_lat</th>\n",
       "      <th>start_location_long</th>\n",
       "      <th>Date</th>\n",
       "    </tr>\n",
       "  </thead>\n",
       "  <tbody>\n",
       "    <tr>\n",
       "      <th>0</th>\n",
       "      <td>0</td>\n",
       "      <td>2016-06-04 00:10:19-05:00</td>\n",
       "      <td>38.676</td>\n",
       "      <td>-121.039</td>\n",
       "      <td>38.655</td>\n",
       "      <td>-121.071</td>\n",
       "      <td>2016-06-04 00:10:19-05:00</td>\n",
       "    </tr>\n",
       "    <tr>\n",
       "      <th>1</th>\n",
       "      <td>1</td>\n",
       "      <td>2016-06-04 01:47:39-05:00</td>\n",
       "      <td>38.676</td>\n",
       "      <td>-121.039</td>\n",
       "      <td>38.679</td>\n",
       "      <td>-121.038</td>\n",
       "      <td>2016-06-04 01:47:39-05:00</td>\n",
       "    </tr>\n",
       "    <tr>\n",
       "      <th>2</th>\n",
       "      <td>2</td>\n",
       "      <td>2016-06-04 03:13:07-05:00</td>\n",
       "      <td>38.676</td>\n",
       "      <td>-121.039</td>\n",
       "      <td>38.678</td>\n",
       "      <td>-121.042</td>\n",
       "      <td>2016-06-04 03:13:07-05:00</td>\n",
       "    </tr>\n",
       "    <tr>\n",
       "      <th>3</th>\n",
       "      <td>3</td>\n",
       "      <td>2016-06-04 09:52:35-05:00</td>\n",
       "      <td>30.271</td>\n",
       "      <td>-97.742</td>\n",
       "      <td>30.247</td>\n",
       "      <td>-97.764</td>\n",
       "      <td>2016-06-04 09:52:35-05:00</td>\n",
       "    </tr>\n",
       "    <tr>\n",
       "      <th>4</th>\n",
       "      <td>4</td>\n",
       "      <td>2016-06-04 10:23:25-05:00</td>\n",
       "      <td>30.269</td>\n",
       "      <td>-97.752</td>\n",
       "      <td>30.269</td>\n",
       "      <td>-97.750</td>\n",
       "      <td>2016-06-04 10:23:25-05:00</td>\n",
       "    </tr>\n",
       "  </tbody>\n",
       "</table>\n",
       "</div>"
      ],
      "text/plain": [
       "   Unnamed: 0               created_date  end_location_lat  end_location_long  \\\n",
       "0           0  2016-06-04 00:10:19-05:00            38.676           -121.039   \n",
       "1           1  2016-06-04 01:47:39-05:00            38.676           -121.039   \n",
       "2           2  2016-06-04 03:13:07-05:00            38.676           -121.039   \n",
       "3           3  2016-06-04 09:52:35-05:00            30.271            -97.742   \n",
       "4           4  2016-06-04 10:23:25-05:00            30.269            -97.752   \n",
       "\n",
       "   start_location_lat  start_location_long                       Date  \n",
       "0              38.655             -121.071  2016-06-04 00:10:19-05:00  \n",
       "1              38.679             -121.038  2016-06-04 01:47:39-05:00  \n",
       "2              38.678             -121.042  2016-06-04 03:13:07-05:00  \n",
       "3              30.247              -97.764  2016-06-04 09:52:35-05:00  \n",
       "4              30.269              -97.750  2016-06-04 10:23:25-05:00  "
      ]
     },
     "execution_count": 14,
     "metadata": {},
     "output_type": "execute_result"
    }
   ],
   "source": [
    "# Check ride_data column names for lat long\n",
    "ride_data.head()"
   ]
  },
  {
   "cell_type": "code",
   "execution_count": 30,
   "metadata": {},
   "outputs": [],
   "source": [
    "# make a filter to drop any rides that are not started within the bounds of Austin as determined by google maps boundry\n",
    "\n",
    "filter = (ride_data['start_location_lat'] < lat_ne) & (ride_data['start_location_lat'] > lat_sw) & (ride_data['start_location_long'] < long_ne) & (ride_data['start_location_long'] > long_sw)\n",
    "ride_data_filtered=ride_data.loc[filter]"
   ]
  },
  {
   "cell_type": "code",
   "execution_count": 31,
   "metadata": {},
   "outputs": [
    {
     "name": "stdout",
     "output_type": "stream",
     "text": [
      "Unnamed: 0             1486429\n",
      "created_date           1486429\n",
      "end_location_lat       1486429\n",
      "end_location_long      1486429\n",
      "start_location_lat     1486429\n",
      "start_location_long    1486429\n",
      "Date                   1486429\n",
      "dtype: int64\n",
      "Unnamed: 0             1494125\n",
      "created_date           1494125\n",
      "end_location_lat       1494125\n",
      "end_location_long      1494125\n",
      "start_location_lat     1494125\n",
      "start_location_long    1494125\n",
      "Date                   1494125\n",
      "dtype: int64\n"
     ]
    }
   ],
   "source": [
    "# Check counts\n",
    "print(ride_data_filtered.count())\n",
    "print(ride_data.count())"
   ]
  },
  {
   "cell_type": "code",
   "execution_count": 32,
   "metadata": {},
   "outputs": [],
   "source": [
    "# Save cleaned file \n",
    "ride_data.to_csv(\"Data/Rides_Data_Clean_Bounded.csv\", encoding='utf-8')"
   ]
  }
 ],
 "metadata": {
  "kernelspec": {
   "display_name": "Python [conda env:.conda-PythonData] *",
   "language": "python",
   "name": "conda-env-.conda-PythonData-py"
  },
  "language_info": {
   "codemirror_mode": {
    "name": "ipython",
    "version": 3
   },
   "file_extension": ".py",
   "mimetype": "text/x-python",
   "name": "python",
   "nbconvert_exporter": "python",
   "pygments_lexer": "ipython3",
   "version": "3.6.8"
  }
 },
 "nbformat": 4,
 "nbformat_minor": 2
}
